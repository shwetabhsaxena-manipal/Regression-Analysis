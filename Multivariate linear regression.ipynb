{
 "cells": [
  {
   "cell_type": "markdown",
   "id": "58c97a95",
   "metadata": {},
   "source": [
    "# Multivariate linear regression\n",
    "\n",
    "### Problem statement: Predicting the concrete compressive strength (in MPa) based on 8 factors, namely amount of cement, blast furnace slag, fly ash, water, superplasticizer, coarse aggregate, fine aggregate (all of these in the unit of kg, for every m^3 mixture) and age (in days). A linear model will be fit into this dataset, procured from UCI dataset repository."
   ]
  },
  {
   "cell_type": "code",
   "execution_count": 84,
   "id": "752f9663",
   "metadata": {},
   "outputs": [
    {
     "name": "stdout",
     "output_type": "stream",
     "text": [
      "   Cement  Blast  Fly Ash  Water  Superplasticizer  Coarse Aggregate  \\\n",
      "0   540.0    0.0      0.0  162.0               2.5            1040.0   \n",
      "1   540.0    0.0      0.0  162.0               2.5            1055.0   \n",
      "2   332.5  142.5      0.0  228.0               0.0             932.0   \n",
      "3   332.5  142.5      0.0  228.0               0.0             932.0   \n",
      "4   198.6  132.4      0.0  192.0               0.0             978.4   \n",
      "\n",
      "   Fine Aggregate  Age  \n",
      "0           676.0   28  \n",
      "1           676.0   28  \n",
      "2           594.0  270  \n",
      "3           594.0  365  \n",
      "4           825.5  360   \n",
      "\n",
      "Printing the corresponding values for strength of concrete:\n",
      " [[79.98611076]\n",
      " [61.88736576]\n",
      " [40.26953526]\n",
      " ...\n",
      " [41.54230795]\n",
      " [39.45595358]\n",
      " [37.91704314]]\n",
      "The number of training examples in the data set: 1025\n"
     ]
    }
   ],
   "source": [
    "#Import the relevant libraries that will be required\n",
    "import numpy as np\n",
    "import pandas as pd\n",
    "import matplotlib.pyplot as plt\n",
    "import math\n",
    "\n",
    "df = pd.read_excel('Concrete_Data.xls')\n",
    "Xj = df[:1025] #Slicing the array to save the last training example for prediction\n",
    "test_X = df[1025:1030]\n",
    "y = np.array(Xj['Strength']).reshape(1025, 1)\n",
    "test_y = np.array(test_X['Strength']).reshape(5, 1)\n",
    "del Xj['Strength'] #The Xj array doesn't contain the y varaible values\n",
    "del test_X['Strength']\n",
    "print(Xj.head(), '\\n')\n",
    "print('Printing the corresponding values for strength of concrete:\\n', y)\n",
    "m = len(Xj) #Storing the number of training examples\n",
    "print('The number of training examples in the data set:', m)"
   ]
  },
  {
   "cell_type": "code",
   "execution_count": 85,
   "id": "2b12f308",
   "metadata": {},
   "outputs": [],
   "source": [
    "X0 = np.ones(len(Xj), dtype = float).reshape(1025, 1) #creating the X0 rows on 1s\n",
    "X = np.append(X0, Xj, axis=1).reshape(1025, 9) #Creating the final X features array\n",
    "theta = np.zeros((9, 1)) #Initialising all theta values to zero"
   ]
  },
  {
   "cell_type": "code",
   "execution_count": 86,
   "id": "954b97df",
   "metadata": {},
   "outputs": [
    {
     "name": "stdout",
     "output_type": "stream",
     "text": [
      "The cost function output for all theta as zeros: 781.9315016079057\n"
     ]
    }
   ],
   "source": [
    "def computeCost(X, y, theta):\n",
    "    J = (1/(2*m))*(np.sum(np.square((X @ theta) - y)))\n",
    "    return J;\n",
    "\n",
    "print('The cost function output for all theta as zeros:', computeCost(X, y, theta))"
   ]
  },
  {
   "cell_type": "code",
   "execution_count": 87,
   "id": "897cc2e6",
   "metadata": {},
   "outputs": [
    {
     "name": "stdout",
     "output_type": "stream",
     "text": [
      "Printing the theta vector:\n",
      " [[-5.37770025e-05]\n",
      " [ 1.16762869e-01]\n",
      " [ 9.61071519e-02]\n",
      " [ 9.07932586e-02]\n",
      " [-1.37161028e-01]\n",
      " [ 3.37246348e-02]\n",
      " [ 1.00151539e-03]\n",
      " [ 1.28429525e-02]\n",
      " [ 1.05073764e-01]]\n"
     ]
    }
   ],
   "source": [
    "alpha = 0.000001\n",
    "iterations = 2000 #We will run our gradient descent for these iterations\n",
    "\n",
    "def gradientDescent(X, y, theta, alpha, iterations, m):\n",
    "    J_history = np.zeros(iterations).reshape(iterations, 1)\n",
    "    for iter in range(iterations):\n",
    "        theta = theta - ((alpha/m)*(X.transpose() @ ((X @ theta)-y)))\n",
    "        J_history[iter] = computeCost(X, y, theta)\n",
    "    return [theta, J_history]\n",
    "\n",
    "returned = gradientDescent(X, y, theta, alpha, iterations, m)\n",
    "theta = returned[0]\n",
    "J_history = returned[1]\n",
    "\n",
    "print(\"Printing the theta vector:\\n\", theta)"
   ]
  },
  {
   "cell_type": "code",
   "execution_count": 88,
   "id": "8a671896",
   "metadata": {},
   "outputs": [
    {
     "data": {
      "text/plain": [
       "[<matplotlib.lines.Line2D at 0x1ffd92bf040>]"
      ]
     },
     "execution_count": 88,
     "metadata": {},
     "output_type": "execute_result"
    },
    {
     "data": {
      "image/png": "[encoded data removed]",
      "text/plain": [
       "<Figure size 432x288 with 1 Axes>"
      ]
     },
     "metadata": {
      "needs_background": "light"
     },
     "output_type": "display_data"
    }
   ],
   "source": [
    "#We will also plot the value of the cost function after each iteration, to see if the value reach a minimum and converge to a\n",
    "#stabalised value\n",
    "plt.xlabel('Iterations')\n",
    "plt.ylabel('Cost function history')\n",
    "plt.plot(range(2000), J_history)"
   ]
  },
  {
   "cell_type": "code",
   "execution_count": 89,
   "id": "c0ef2f7a",
   "metadata": {},
   "outputs": [
    {
     "name": "stdout",
     "output_type": "stream",
     "text": [
      "The values for each of the test set examples in an array is:\n",
      " [[40.96701712]\n",
      " [35.7914805 ]\n",
      " [28.22482805]\n",
      " [26.8807061 ]\n",
      " [33.59457316]]\n",
      "Comparing the original values in our test set:\n",
      " [[44.284354  ]\n",
      " [31.1787942 ]\n",
      " [23.69660064]\n",
      " [32.76803638]\n",
      " [32.40123514]]\n",
      "The standard deviation of the values is: 4.215949613768231\n"
     ]
    }
   ],
   "source": [
    "#As we can see, the model has converged into a constant value, that means our regression model is created sucessfully.\n",
    "#Let's compare the results with the actual values.\n",
    "#We will consider our test set and compare our training model values with the the original.\n",
    "\n",
    "test_X0 = np.ones(len(test_X), dtype = float).reshape(5, 1) #creating the X0 rows on 1s\n",
    "test_X = np.append(test_X0, test_X, axis=1).reshape(5, 9) #Creating the final X features array\n",
    "prediction = test_X @ theta\n",
    "std_deviation = math.sqrt((np.sum(np.square(test_y-prediction)))/5)\n",
    "print('The values for each of the test set examples in an array is:\\n', prediction)\n",
    "print('Comparing the original values in our test set:\\n', test_y)\n",
    "print('The standard deviation of the values is:', std_deviation)"
   ]
  },
  {
   "cell_type": "code",
   "execution_count": 90,
   "id": "8e769736",
   "metadata": {},
   "outputs": [],
   "source": [
    "#As we can observe, there is still a significant deviation from the original value, which is expected, as cost isn't zero.\n",
    "#This examples also shows that multivariate linear regression even after convergence can fail to fit perfectly for complicated\n",
    "#scenarios such as this one. There thus arises for a more advanced manner for fitting a model."
   ]
  }
 ],
 "metadata": {
  "kernelspec": {
   "display_name": "Python 3 (ipykernel)",
   "language": "python",
   "name": "python3"
  },
  "language_info": {
   "codemirror_mode": {
    "name": "ipython",
    "version": 3
   },
   "file_extension": ".py",
   "mimetype": "text/x-python",
   "name": "python",
   "nbconvert_exporter": "python",
   "pygments_lexer": "ipython3",
   "version": "3.10.0"
  }
 },
 "nbformat": 4,
 "nbformat_minor": 5
}
