{
 "cells": [
  {
   "cell_type": "markdown",
   "id": "20b572fd",
   "metadata": {},
   "source": [
    "# Polynomial regression\n",
    "\n",
    "### Problem statement: Predicting the concrete compressive strength (in MPa) based on 8 factors, namely amount of cement, blast furnace slag, fly ash, water, superplasticizer, coarse aggregate, fine aggregate (all of these in the unit of kg, for every m^3 mixture) and age (in days). A linear model will be fit into this dataset, procured from UCI dataset repository."
   ]
  },
  {
   "cell_type": "code",
   "execution_count": 263,
   "id": "cf5efda8",
   "metadata": {},
   "outputs": [
    {
     "name": "stdout",
     "output_type": "stream",
     "text": [
      "   Cement  Blast  Fly Ash  Water  Superplasticizer  Coarse Aggregate  \\\n",
      "0   540.0    0.0      0.0  162.0               2.5            1040.0   \n",
      "1   540.0    0.0      0.0  162.0               2.5            1055.0   \n",
      "2   332.5  142.5      0.0  228.0               0.0             932.0   \n",
      "3   332.5  142.5      0.0  228.0               0.0             932.0   \n",
      "4   198.6  132.4      0.0  192.0               0.0             978.4   \n",
      "\n",
      "   Fine Aggregate  Age  \n",
      "0           676.0   28  \n",
      "1           676.0   28  \n",
      "2           594.0  270  \n",
      "3           594.0  365  \n",
      "4           825.5  360   \n",
      "\n",
      "Printing the corresponding values for strength of concrete:\n",
      " [[79.98611076]\n",
      " [61.88736576]\n",
      " [40.26953526]\n",
      " ...\n",
      " [41.54230795]\n",
      " [39.45595358]\n",
      " [37.91704314]]\n",
      "The number of training examples in the data set: 1025\n"
     ]
    }
   ],
   "source": [
    "#Import the relevant libraries that will be required\n",
    "import numpy as np\n",
    "import pandas as pd\n",
    "import matplotlib.pyplot as plt\n",
    "import math\n",
    "\n",
    "df = pd.read_excel('Concrete_Data.xls')\n",
    "Xj = df[:1025] #Slicing the array to save the last training example for prediction\n",
    "test_X = df[1025:1030]\n",
    "y = np.array(Xj['Strength']).reshape(1025, 1)\n",
    "test_y = np.array(test_X['Strength']).reshape(5, 1)\n",
    "del Xj['Strength'] #The Xj array doesn't contain the y varaible values\n",
    "del test_X['Strength']\n",
    "print(Xj.head(), '\\n')\n",
    "print('Printing the corresponding values for strength of concrete:\\n', y)\n",
    "m = len(Xj) #Storing the number of training examples\n",
    "print('The number of training examples in the data set:', m)"
   ]
  },
  {
   "cell_type": "code",
   "execution_count": 264,
   "id": "a26f7a77",
   "metadata": {},
   "outputs": [],
   "source": [
    "X0 = np.ones(len(Xj), dtype = float).reshape(1025, 1) #creating the X0 rows on 1s\n",
    "X = np.append(X0, Xj, axis=1).reshape(1025, 9) #Creating the array with X0 coloumn\n",
    "X = np.append(X, (Xj**2), axis=1).reshape(1025, 17) #Squaring all features and appending\n",
    "X = np.append(X, (Xj**3), axis=1).reshape(1025, 25) #Creating the final X features array, by cubing all features and appending\n",
    "#Here, observe that every eight features, we have added the squares and then cubes of the features."
   ]
  },
  {
   "cell_type": "code",
   "execution_count": 265,
   "id": "034f3222",
   "metadata": {},
   "outputs": [],
   "source": [
    "#But since the features are too big, it will be harder for the algorithm to find the optimum minima. Therefore, features need\n",
    "#to be scaled.\n",
    "maximum = np.max(X, axis=0) #saving the coloumn-wise max values for test set\n",
    "for i in range(25):\n",
    "    X[:, i] /= np.max(X, axis=0)[i]\n",
    "#The most basic form of normalisation was used, where all the training examples of each feature was divided by its respective\n",
    "#maximum value, yielding all values to lie in between 0 and 1."
   ]
  },
  {
   "cell_type": "code",
   "execution_count": 266,
   "id": "bee8980f",
   "metadata": {},
   "outputs": [
    {
     "name": "stdout",
     "output_type": "stream",
     "text": [
      "The cost function output for all theta as zeros: 781.9315016079057\n"
     ]
    }
   ],
   "source": [
    "theta = np.zeros((25, 1)) #Initialising theta to zeros\n",
    "def computeCost(X, y, theta):\n",
    "    J = (1/(2*m))*(np.sum(np.square((X @ theta) - y)))\n",
    "    return J;\n",
    "\n",
    "print('The cost function output for all theta as zeros:', computeCost(X, y, theta))"
   ]
  },
  {
   "cell_type": "code",
   "execution_count": 267,
   "id": "6b68eb9a",
   "metadata": {
    "scrolled": true
   },
   "outputs": [
    {
     "name": "stdout",
     "output_type": "stream",
     "text": [
      "Printing the theta vector:\n",
      " [[ 10.14583936]\n",
      " [ 44.29169908]\n",
      " [ 34.37037524]\n",
      " [ 13.42711161]\n",
      " [-11.16269072]\n",
      " [ 25.32167733]\n",
      " [  3.58877356]\n",
      " [  7.53079185]\n",
      " [100.04691349]\n",
      " [ 15.31905941]\n",
      " [ -2.84371406]\n",
      " [ -1.58825385]\n",
      " [-15.97402309]\n",
      " [-18.16899201]\n",
      " [ -0.88976025]\n",
      " [ -0.53998354]\n",
      " [-35.55586198]\n",
      " [ -8.47351332]\n",
      " [-14.76617816]\n",
      " [ -9.14893251]\n",
      " [-12.04172017]\n",
      " [-16.34521058]\n",
      " [ -3.99737266]\n",
      " [ -9.7568461 ]\n",
      " [-42.40575332]]\n"
     ]
    }
   ],
   "source": [
    "theta = np.zeros((25, 1)) #Initialising theta to zeros\n",
    "alpha = 0.35\n",
    "iterations = 2200 #we will run our gradient descent for these iterations\n",
    "\n",
    "def gradientDescent(X, y, theta, alpha, iterations, m):\n",
    "    J_history = np.zeros(iterations).reshape(iterations, 1)\n",
    "    for iter in range(iterations):\n",
    "        theta = theta - ((alpha/m)*(X.transpose() @ ((X @ theta)-y)))\n",
    "        J_history[iter] = computeCost(X, y, theta)\n",
    "    return [theta, J_history]\n",
    "\n",
    "returned = gradientDescent(X, y, theta, alpha, iterations, m)\n",
    "theta = returned[0]\n",
    "J_history = returned[1]\n",
    "\n",
    "print(\"Printing the theta vector:\\n\", theta)"
   ]
  },
  {
   "cell_type": "code",
   "execution_count": 268,
   "id": "856cfdeb",
   "metadata": {},
   "outputs": [
    {
     "data": {
      "text/plain": [
       "[<matplotlib.lines.Line2D at 0x2c1bb39b340>]"
      ]
     },
     "execution_count": 268,
     "metadata": {},
     "output_type": "execute_result"
    },
    {
     "data": {
      "image/png": "[encoded data removed]",
      "text/plain": [
       "<Figure size 432x288 with 1 Axes>"
      ]
     },
     "metadata": {
      "needs_background": "light"
     },
     "output_type": "display_data"
    }
   ],
   "source": [
    "#We will also plot the value of the cost function after each iteration, to see the value reach a minimum and converge to a\n",
    "#stabalised value\n",
    "plt.xlabel('Iterations')\n",
    "plt.ylabel('Cost function history')\n",
    "plt.plot(range(2200), J_history)"
   ]
  },
  {
   "cell_type": "code",
   "execution_count": 269,
   "id": "686cfc4a",
   "metadata": {},
   "outputs": [
    {
     "name": "stdout",
     "output_type": "stream",
     "text": [
      "The values for each of the test set examples in an array is:\n",
      " [[43.85014869]\n",
      " [35.02770197]\n",
      " [29.25184778]\n",
      " [32.98029434]\n",
      " [35.77978533]]\n",
      "Comparing the original values in our test set:\n",
      " [[44.284354  ]\n",
      " [31.1787942 ]\n",
      " [23.69660064]\n",
      " [32.76803638]\n",
      " [32.40123514]]\n",
      "The standard deviation of the values is: 3.3859430262335364\n"
     ]
    }
   ],
   "source": [
    "#As we can see, the model has converged into a constant value, that means our regression model is created sucessfully.\n",
    "#Let's compare the results with the actual values.\n",
    "#We will consider our test set and compare our training model values with the the original.\n",
    "\n",
    "test_X0 = np.ones(len(test_X), dtype = float).reshape(5, 1) #creating the X0 rows on 1s\n",
    "test = np.append(test_X0, test_X, axis=1).reshape(5, 9) #Adding the coloumn of 1s for X0\n",
    "test = np.append(test, (test_X**2), axis=1).reshape(5, 17) #Squaring all features and appending\n",
    "test = np.append(test, (test_X**3), axis=1).reshape(5, 25) #Creating the final test sets by cubing an appending\n",
    "for i in range(25):\n",
    "    test[:, i] /= maximum[i] #normalising the features here as well\n",
    "prediction = test @ theta\n",
    "std_deviation = math.sqrt((np.sum(np.square(test_y-prediction)))/5)\n",
    "print('The values for each of the test set examples in an array is:\\n', prediction)\n",
    "print('Comparing the original values in our test set:\\n', test_y)\n",
    "print('The standard deviation of the values is:', std_deviation)"
   ]
  },
  {
   "cell_type": "code",
   "execution_count": null,
   "id": "5e94b141",
   "metadata": {},
   "outputs": [],
   "source": []
  }
 ],
 "metadata": {
  "kernelspec": {
   "display_name": "Python 3 (ipykernel)",
   "language": "python",
   "name": "python3"
  },
  "language_info": {
   "codemirror_mode": {
    "name": "ipython",
    "version": 3
   },
   "file_extension": ".py",
   "mimetype": "text/x-python",
   "name": "python",
   "nbconvert_exporter": "python",
   "pygments_lexer": "ipython3",
   "version": "3.10.0"
  }
 },
 "nbformat": 4,
 "nbformat_minor": 5
}
